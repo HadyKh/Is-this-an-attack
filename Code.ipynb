{
 "cells": [
  {
   "cell_type": "markdown",
   "id": "1db26165",
   "metadata": {},
   "source": [
    "# Is this an Attack?"
   ]
  },
  {
   "cell_type": "markdown",
   "id": "79ce84aa",
   "metadata": {},
   "source": [
    "### Importing"
   ]
  },
  {
   "cell_type": "code",
   "execution_count": 1,
   "id": "9dc07b51",
   "metadata": {},
   "outputs": [],
   "source": [
    "import warnings\n",
    "warnings.filterwarnings('ignore')\n",
    "warnings.filterwarnings('ignore', category=DeprecationWarning)\n",
    "\n",
    "import numpy as np\n",
    "import pandas as pd\n",
    "import seaborn as sns\n",
    "import matplotlib.pyplot as plt\n",
    "from sklearn.metrics import f1_score\n",
    "from sklearn.model_selection import train_test_split\n"
   ]
  },
  {
   "cell_type": "markdown",
   "id": "8fb32646",
   "metadata": {},
   "source": [
    "### Reading Data"
   ]
  },
  {
   "cell_type": "code",
   "execution_count": 2,
   "id": "7bd3149b",
   "metadata": {},
   "outputs": [],
   "source": [
    "features = [\"ID\", \"Flow ID\", \"Source IP\", \"Source Port\", \"Destination IP\", \"Destination Port\", \"Protocol\", \"Timestamp\", \"Flow Duration\", \n",
    "            \"Total Fwd Packets\", \"Total Backward Packets\", \"Total Length of Fwd Packets\", \"Total Length of Bwd Packets\", \n",
    "            \"Fwd Packet Length Max\", \"Fwd Packet Length Min\", \"Fwd Packet Length Mean\", \"Fwd Packet Length Std\", \"Bwd Packet Length Max\", \n",
    "            \"Bwd Packet Length Min\", \"Bwd Packet Length Mean\", \"Bwd Packet Length Std\", \"Flow Bytes/s\", \"Flow Packets/s\", \"Flow IAT Mean\", \n",
    "            \"Flow IAT Std\", \"Flow IAT Max\", \"Flow IAT Min\", \"Fwd IAT Total\", \"Fwd IAT Mean\", \"Fwd IAT Std\", \"Fwd IAT Max\", \"Fwd IAT Min\", \n",
    "            \"Bwd IAT Total\", \"Bwd IAT Mean\", \"Bwd IAT Std\", \"Bwd IAT Max\", \"Bwd IAT Min\", \"Fwd PSH Flags\", \"Bwd PSH Flags\", \"Fwd URG Flags\", \n",
    "            \"Bwd URG Flags\", \"Fwd Header Length\", \"Bwd Header Length\", \"Fwd Packets/s\", \"Bwd Packets/s\", \"Min Packet Length\", \n",
    "            \"Max Packet Length\", \"Packet Length Mean\", \"Packet Length Std\", \"Packet Length Variance\", \"FIN Flag Count\", \"SYN Flag Count\", \n",
    "            \"RST Flag Count\", \"PSH Flag Count\", \"ACK Flag Count\", \"URG Flag Count\", \"CWE Flag Count\", \"ECE Flag Count\", \"Down/Up Ratio\", \n",
    "            \"Average Packet Size\", \"Avg Fwd Segment Size\", \"Avg Bwd Segment Size\", \"Fwd Header Length.1\", \"Fwd Avg Bytes/Bulk\", \n",
    "            \"Fwd Avg Packets/Bulk\", \"Fwd Avg Bulk Rate\", \"Bwd Avg Bytes/Bulk\", \"Bwd Avg Packets/Bulk\", \"Bwd Avg Bulk Rate\", \n",
    "            \"Subflow Fwd Packets\", \"Subflow Fwd Bytes\", \"Subflow Bwd Packets\", \"Subflow Bwd Bytes\", \"Init_Win_bytes_forward\", \n",
    "            \"Init_Win_bytes_backward\", \"act_data_pkt_fwd\",\"min_seg_size_forward\", \"Active Mean\", \"Active Std\", \"Active Max\", \"Active Min\", \n",
    "            \"Idle Mean\", \"Idle Std\", \"Idle Max\", \"Idle Min\", \"SimillarHTTP\", \"Inbound\", \"Label\"]\n",
    "test_features = [\"ID\", \"Flow ID\", \"Source IP\", \"Source Port\", \"Destination IP\", \"Destination Port\", \"Protocol\", \"Timestamp\", \"Flow Duration\", \n",
    "            \"Total Fwd Packets\", \"Total Backward Packets\", \"Total Length of Fwd Packets\", \"Total Length of Bwd Packets\", \n",
    "            \"Fwd Packet Length Max\", \"Fwd Packet Length Min\", \"Fwd Packet Length Mean\", \"Fwd Packet Length Std\", \"Bwd Packet Length Max\", \n",
    "            \"Bwd Packet Length Min\", \"Bwd Packet Length Mean\", \"Bwd Packet Length Std\", \"Flow Bytes/s\", \"Flow Packets/s\", \"Flow IAT Mean\", \n",
    "            \"Flow IAT Std\", \"Flow IAT Max\", \"Flow IAT Min\", \"Fwd IAT Total\", \"Fwd IAT Mean\", \"Fwd IAT Std\", \"Fwd IAT Max\", \"Fwd IAT Min\", \n",
    "            \"Bwd IAT Total\", \"Bwd IAT Mean\", \"Bwd IAT Std\", \"Bwd IAT Max\", \"Bwd IAT Min\", \"Fwd PSH Flags\", \"Bwd PSH Flags\", \"Fwd URG Flags\", \n",
    "            \"Bwd URG Flags\", \"Fwd Header Length\", \"Bwd Header Length\", \"Fwd Packets/s\", \"Bwd Packets/s\", \"Min Packet Length\", \n",
    "            \"Max Packet Length\", \"Packet Length Mean\", \"Packet Length Std\", \"Packet Length Variance\", \"FIN Flag Count\", \"SYN Flag Count\", \n",
    "            \"RST Flag Count\", \"PSH Flag Count\", \"ACK Flag Count\", \"URG Flag Count\", \"CWE Flag Count\", \"ECE Flag Count\", \"Down/Up Ratio\", \n",
    "            \"Average Packet Size\", \"Avg Fwd Segment Size\", \"Avg Bwd Segment Size\", \"Fwd Header Length.1\", \"Fwd Avg Bytes/Bulk\", \n",
    "            \"Fwd Avg Packets/Bulk\", \"Fwd Avg Bulk Rate\", \"Bwd Avg Bytes/Bulk\", \"Bwd Avg Packets/Bulk\", \"Bwd Avg Bulk Rate\", \n",
    "            \"Subflow Fwd Packets\", \"Subflow Fwd Bytes\", \"Subflow Bwd Packets\", \"Subflow Bwd Bytes\", \"Init_Win_bytes_forward\", \n",
    "            \"Init_Win_bytes_backward\", \"act_data_pkt_fwd\",\"min_seg_size_forward\", \"Active Mean\", \"Active Std\", \"Active Max\", \"Active Min\", \n",
    "            \"Idle Mean\", \"Idle Std\", \"Idle Max\", \"Idle Min\", \"SimillarHTTP\", \"Inbound\"]"
   ]
  },
  {
   "cell_type": "code",
   "execution_count": 3,
   "id": "09b37607",
   "metadata": {},
   "outputs": [],
   "source": [
    "train_dataset = pd.read_csv('traindata.csv', names = features, skiprows = 1, parse_dates=True)\n",
    "train_dataset.drop(['ID', \"Flow ID\", \"Source IP\",\"Destination IP\", 'Timestamp', 'SimillarHTTP'], axis = 1, inplace = True)\n",
    "train_dataset.replace([np.inf, -np.inf], np.nan, inplace=True)\n",
    "train_dataset.fillna(train_dataset.mean(), inplace = True)\n",
    "\n",
    "test_dataset = pd.read_csv('testdata.csv', names = test_features, skiprows = 1, parse_dates=True)\n",
    "# test_dataset.replace([np.inf, -np.inf], np.nan, inplace=True)\n",
    "# test_dataset.dropna(inplace=True)\n",
    "test_dataset.drop(['ID', \"Flow ID\", \"Source IP\",\"Destination IP\", 'Timestamp', 'SimillarHTTP'], axis = 1, inplace = True)\n",
    "test_dataset.replace([np.inf, -np.inf], np.nan, inplace=True)\n",
    "test_dataset.fillna(test_dataset.mean(), inplace = True)\n"
   ]
  },
  {
   "cell_type": "code",
   "execution_count": 13,
   "id": "68b02070",
   "metadata": {},
   "outputs": [],
   "source": [
    "xdata = train_dataset.drop(['Label'], axis = 1)\n",
    "ydata = train_dataset['Label']"
   ]
  },
  {
   "cell_type": "markdown",
   "id": "d812a1de",
   "metadata": {},
   "source": [
    "### Exploring"
   ]
  },
  {
   "cell_type": "code",
   "execution_count": 4,
   "id": "8336f20f",
   "metadata": {},
   "outputs": [
    {
     "name": "stdout",
     "output_type": "stream",
     "text": [
      "False\n",
      "False\n"
     ]
    }
   ],
   "source": [
    "# Make sure that all Na values are disappeared\n",
    "\n",
    "print(train_dataset.isnull().values.any())\n",
    "print(test_dataset.isnull().values.any())"
   ]
  },
  {
   "cell_type": "code",
   "execution_count": 5,
   "id": "3ef40c9b",
   "metadata": {},
   "outputs": [
    {
     "name": "stdout",
     "output_type": "stream",
     "text": [
      "0    125164\n",
      "1     11247\n",
      "Name: Label, dtype: int64\n"
     ]
    },
    {
     "data": {
      "image/png": "[encoded data removed]",
      "text/plain": [
       "<Figure size 576x576 with 1 Axes>"
      ]
     },
     "metadata": {
      "needs_background": "light"
     },
     "output_type": "display_data"
    }
   ],
   "source": [
    "#check for imbalance in data\n",
    "\n",
    "print(train_dataset['Label'].value_counts())\n",
    "fig, ax = plt.subplots(figsize=(8, 8))\n",
    "plt.bar(['0', '1'], train_dataset['Label'].value_counts())\n",
    "plt.title('Labels count', fontsize = 'x-large')\n",
    "plt.ylabel('Count', fontsize = 'x-large')\n",
    "plt.xlabel('Labels', fontsize = 'x-large')\n",
    "plt.show()"
   ]
  },
  {
   "cell_type": "markdown",
   "id": "1dbd0447",
   "metadata": {},
   "source": [
    "#### Removing the highly correlated features"
   ]
  },
  {
   "cell_type": "code",
   "execution_count": null,
   "id": "db12ca02",
   "metadata": {},
   "outputs": [],
   "source": [
    "# xdata.drop([\"Fwd Packet Length Min\", \"Fwd Packet Length Mean\",\"Fwd PSH Flags\", \"Fwd Header Length\", \"Min Packet Length\", \"Packet Length Mean\",\n",
    "#            \"Fwd IAT Total\", \"Total Fwd Packets\", \"Total Backward Packets\", \"Total Length of Fwd Packets\", \"Total Length of Bwd Packets\"], axis = 1, inplace = True)\n",
    "# test_dataset.drop([\"Fwd Packet Length Min\", \"Fwd Packet Length Mean\",\"Fwd PSH Flags\", \"Fwd Header Length\", \"Min Packet Length\", \"Packet Length Mean\",\n",
    "#            \"Fwd IAT Total\", \"Total Fwd Packets\", \"Total Backward Packets\", \"Total Length of Fwd Packets\", \"Total Length of Bwd Packets\"], axis = 1, inplace = True)"
   ]
  },
  {
   "cell_type": "markdown",
   "id": "4d9d9eaa",
   "metadata": {},
   "source": [
    "Shap is a theoritic approach to explain the output. Simply Shap is saying what each feature gives or how it influence the model"
   ]
  },
  {
   "cell_type": "code",
   "execution_count": 10,
   "id": "94215f30",
   "metadata": {},
   "outputs": [],
   "source": [
    "import shap\n",
    "from catboost import CatBoostClassifier"
   ]
  },
  {
   "cell_type": "code",
   "execution_count": null,
   "id": "d3fd9917",
   "metadata": {},
   "outputs": [],
   "source": [
    "# choosing the model\n",
    "model = CatBoostClassifier(iterations = 500, learning_rate = 0.05, eval_metric = 'F1', verbose = False, random_state = 42, task_type=\"GPU\", devices='0:1')\n",
    "model.fit(xdata, ydata, verbose=False,  plot=False)\n",
    "\n",
    "#implementing shap on the model\n",
    "\n",
    "explainer = shap.Explainer(model)\n",
    "shap_values = explainer(xdata)\n",
    "\n",
    "# visualize the first prediction's explanation\n",
    "shap.plots.waterfall(shap_values[0], max_display = 80)"
   ]
  },
  {
   "cell_type": "code",
   "execution_count": 15,
   "id": "48d46140",
   "metadata": {},
   "outputs": [],
   "source": [
    "#columns based on shap \n",
    "xdata = train_dataset[[\"Inbound\", \"Init_Win_bytes_forward\", \"act_data_pkt_fwd\", \"Destination Port\", \"Bwd Packet Length Max\", \"Source Port\", \"Fwd Packet Length Min\", \"Total Length of Bwd Packets\", \"Min Packet Length\", \n",
    "\"Bwd Packet Length Mean\", \"min_seg_size_forward\",  \"Down/Up Ratio\", \"Fwd Header Length\", \"Bwd Packet Length Min\", \"Bwd Packets/s\",  \"Fwd Header Length.1\", \"Flow Duration\", \n",
    "\"Subflow Bwd Bytes\", \"Total Fwd Packets\"]]\n",
    "ydata = train_dataset['Label']\n",
    "xtest = test_dataset[[\"Inbound\", \"Init_Win_bytes_forward\", \"act_data_pkt_fwd\", \"Destination Port\", \"Bwd Packet Length Max\", \"Source Port\", \"Fwd Packet Length Min\", \"Total Length of Bwd Packets\", \"Min Packet Length\", \n",
    "\"Bwd Packet Length Mean\", \"min_seg_size_forward\",  \"Down/Up Ratio\", \"Fwd Header Length\", \"Bwd Packet Length Min\", \"Bwd Packets/s\",  \"Fwd Header Length.1\", \"Flow Duration\", \n",
    "\"Subflow Bwd Bytes\", \"Total Fwd Packets\"]]"
   ]
  },
  {
   "cell_type": "markdown",
   "id": "81c8c010",
   "metadata": {},
   "source": [
    "#### Applying Classifiers"
   ]
  },
  {
   "cell_type": "markdown",
   "id": "02a70a76",
   "metadata": {},
   "source": [
    "#### Random Forest"
   ]
  },
  {
   "cell_type": "code",
   "execution_count": null,
   "id": "60bec820",
   "metadata": {},
   "outputs": [],
   "source": [
    "# from sklearn.ensemble import RandomForestClassifier\n",
    "\n",
    "# def model_Randomforest( nEst, x_train, y_train, x_test):\n",
    "#     model = RandomForestClassifier(n_estimators = nEst, bootstrap = False, max_depth = None, \n",
    "#                                    max_features = 'auto', random_state = 50)\n",
    "#     model.fit(x_train, y_train)\n",
    "#     y_pred = model.predict(x_test)\n",
    "    \n",
    "#     return y_pred\n"
   ]
  },
  {
   "cell_type": "code",
   "execution_count": null,
   "id": "dd25033f",
   "metadata": {},
   "outputs": [],
   "source": [
    "# y_pred = model_Randomforest(500, xdata, ydata, test_dataset)\n",
    "\n",
    "# submission_file = pd.DataFrame({'ID': range(0,101500), 'Class': y_pred})"
   ]
  },
  {
   "cell_type": "markdown",
   "id": "c9d89411",
   "metadata": {},
   "source": [
    "#### XGBoost"
   ]
  },
  {
   "cell_type": "code",
   "execution_count": null,
   "id": "a80f41bf",
   "metadata": {},
   "outputs": [],
   "source": [
    "# import xgboost as xgb\n",
    "\n",
    "# model_xgb = xgb.XGBClassifier(learning_rate = 0.05, max_depth = 2, n_estimators = 5000, subsample = 0.5, colsample_bytree = 0.25,\n",
    "#                              eval_metric = 'auc', verbosity = 1, use_label_encoder = False)\n",
    "# model_xgb.fit(xdata, ydata)\n",
    "# y_pred = model_xgb.predict(test_dataset)\n",
    "\n",
    "# submission_file = pd.DataFrame({'ID': range(0,101500), 'Class': y_pred})"
   ]
  },
  {
   "cell_type": "markdown",
   "id": "214360e8",
   "metadata": {},
   "source": [
    "#### CatBoost"
   ]
  },
  {
   "cell_type": "code",
   "execution_count": null,
   "id": "df495785",
   "metadata": {},
   "outputs": [],
   "source": [
    "# from catboost import CatBoostClassifier\n",
    "# from sklearn.model_selection import cross_validate"
   ]
  },
  {
   "cell_type": "code",
   "execution_count": null,
   "id": "b590cae3",
   "metadata": {},
   "outputs": [],
   "source": [
    "#X_train, X_test, y_train, y_test = train_test_split(xdata, ydata, test_size=0.33)"
   ]
  },
  {
   "cell_type": "code",
   "execution_count": null,
   "id": "8c6006d7",
   "metadata": {},
   "outputs": [],
   "source": [
    "# model = CatBoostClassifier(iterations = 1000, learning_rate = 0.01, eval_metric = 'F1', verbose = False, random_state = 50, task_type=\"GPU\", devices='0:1')\n",
    "# model.fit(xdata, ydata, verbose=False)\n",
    "# y_pred = model.predict(test_dataset)"
   ]
  },
  {
   "cell_type": "code",
   "execution_count": null,
   "id": "4f4f184f",
   "metadata": {},
   "outputs": [],
   "source": [
    "# submission_file = pd.DataFrame({'ID': range(0,101500), 'Class': y_pred})\n"
   ]
  },
  {
   "cell_type": "code",
   "execution_count": null,
   "id": "e006af03",
   "metadata": {},
   "outputs": [],
   "source": []
  },
  {
   "cell_type": "markdown",
   "id": "db8fe10b",
   "metadata": {},
   "source": [
    "#### LightGBM"
   ]
  },
  {
   "cell_type": "code",
   "execution_count": null,
   "id": "bd43aa88",
   "metadata": {},
   "outputs": [],
   "source": [
    "# from sklearn.preprocessing import MinMaxScaler\n",
    "\n",
    "# scaler = MinMaxScaler()\n",
    "# xdata = scaler.fit_transform(xdata, ydata)\n",
    "# test_dataset = scaler.transform(test_dataset)"
   ]
  },
  {
   "cell_type": "code",
   "execution_count": null,
   "id": "a179c1d2",
   "metadata": {},
   "outputs": [],
   "source": [
    "# import lightgbm as lgb\n",
    "\n",
    "# parameters = {'objective': 'binary', 'metric': 'auc', 'is_unbalance': 'true', 'boosting': 'gbdt', 'num_leaves': 63,\n",
    "#               'feature_fraction': 0.5, 'bagging_fraction': 0.5, 'bagging_freq': 20, 'learning_rate': 0.01, 'verbose': -1}\n"
   ]
  },
  {
   "cell_type": "code",
   "execution_count": null,
   "id": "4006c707",
   "metadata": {},
   "outputs": [],
   "source": [
    "# train_data = lgb.Dataset(xdata, label = ydata)\n",
    "# model = lgb.train(parameters,train_data, num_boost_round = 5000)\n",
    "# y_pred = model.predict(test_dataset)"
   ]
  },
  {
   "cell_type": "code",
   "execution_count": null,
   "id": "05663c31",
   "metadata": {},
   "outputs": [],
   "source": []
  },
  {
   "cell_type": "markdown",
   "id": "3732e264",
   "metadata": {},
   "source": [
    "### Final model"
   ]
  },
  {
   "cell_type": "markdown",
   "id": "09c63402",
   "metadata": {},
   "source": [
    "#### catboost"
   ]
  },
  {
   "cell_type": "code",
   "execution_count": null,
   "id": "9f2d47da",
   "metadata": {},
   "outputs": [],
   "source": [
    "model = CatBoostClassifier(iterations = 1000, learning_rate = 0.01, eval_metric = 'F1', verbose = False, random_state = 50, task_type=\"GPU\", devices='0:1')\n",
    "model.fit(xdata, ydata, verbose=False)\n",
    "y_pred = model.predict(xtest)"
   ]
  },
  {
   "cell_type": "markdown",
   "id": "6f1d1fad",
   "metadata": {},
   "source": [
    "#### Random Forest"
   ]
  },
  {
   "cell_type": "code",
   "execution_count": null,
   "id": "6f418f5e",
   "metadata": {},
   "outputs": [],
   "source": [
    "from sklearn.ensemble import RandomForestClassifier\n",
    "\n",
    "def model_Randomforest( nEst, x_train, y_train, x_test):\n",
    "    model = RandomForestClassifier(n_estimators = nEst, bootstrap = False, max_depth = None, \n",
    "                                   max_features = 'auto', random_state = 50)\n",
    "    model.fit(x_train, y_train)\n",
    "    y_pred = model.predict(x_test)\n",
    "    \n",
    "    return y_pred\n",
    "\n",
    "\n",
    "y_pred = model_Randomforest(1000, xdata, ydata, xtest)"
   ]
  },
  {
   "cell_type": "markdown",
   "id": "23356af5",
   "metadata": {},
   "source": [
    "#### XGBoost"
   ]
  },
  {
   "cell_type": "code",
   "execution_count": null,
   "id": "6ff4d235",
   "metadata": {},
   "outputs": [],
   "source": [
    "import xgboost as xgb\n",
    "model_xgb = xgb.XGBClassifier(learning_rate = 0.1, n_estimators = 5000, tree_method = 'hist')\n",
    "model_xgb.fit(xdata, ydata)\n",
    "y_pred = model_xgb.predict(xtest)"
   ]
  },
  {
   "cell_type": "markdown",
   "id": "5749632d",
   "metadata": {},
   "source": [
    "#### LGBM"
   ]
  },
  {
   "cell_type": "code",
   "execution_count": null,
   "id": "3b766b96",
   "metadata": {},
   "outputs": [],
   "source": [
    "from lightgbm.sklearn import LGBMClassifier \n",
    "model = LGBMClassifier(objective = 'binary', boosting_type = 'rf', learning_rate = 0.5, n_estimators = 2000, \n",
    "                       bagging_freq = 30, bagging_fraction = 0.9)\n",
    "model.fit(xdata, ydata)\n",
    "y_pred = model.predict(xtest)"
   ]
  },
  {
   "cell_type": "code",
   "execution_count": null,
   "id": "5dc78681",
   "metadata": {},
   "outputs": [],
   "source": []
  },
  {
   "cell_type": "markdown",
   "id": "ea130ec3",
   "metadata": {},
   "source": [
    "## Submission file"
   ]
  },
  {
   "cell_type": "code",
   "execution_count": null,
   "id": "d7ceffc2",
   "metadata": {},
   "outputs": [],
   "source": [
    "# submission_file = pd.DataFrame({'ID': range(0,101500), 'Class': y_pred})\n",
    "# submission_file = submission_file.to_csv('Submission.csv',index=False)"
   ]
  }
 ],
 "metadata": {
  "kernelspec": {
   "display_name": "Python 3 (ipykernel)",
   "language": "python",
   "name": "python3"
  },
  "language_info": {
   "codemirror_mode": {
    "name": "ipython",
    "version": 3
   },
   "file_extension": ".py",
   "mimetype": "text/x-python",
   "name": "python",
   "nbconvert_exporter": "python",
   "pygments_lexer": "ipython3",
   "version": "3.9.7"
  }
 },
 "nbformat": 4,
 "nbformat_minor": 5
}
